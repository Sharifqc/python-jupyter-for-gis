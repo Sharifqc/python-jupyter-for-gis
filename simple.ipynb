{
 "cells": [
  {
   "cell_type": "code",
   "execution_count": null,
   "metadata": {
    "collapsed": false
   },
   "outputs": [],
   "source": [
    "%matplotlib inline"
   ]
  },
  {
   "cell_type": "code",
   "execution_count": null,
   "metadata": {
    "collapsed": true
   },
   "outputs": [],
   "source": [
    "from mpl_toolkits.basemap import Basemap\n",
    "import matplotlib.pyplot as plt"
   ]
  },
  {
   "cell_type": "code",
   "execution_count": null,
   "metadata": {
    "collapsed": true
   },
   "outputs": [],
   "source": [
    "def draw_map(minx = - 10.56, miny = 49.89, maxx = 2.61 , maxy = 61.03):\n",
    "\n",
    "    fig = plt.figure(figsize=(6,6))\n",
    "        \n",
    "    map = Basemap(llcrnrlon=minx,\n",
    "              llcrnrlat=miny,\n",
    "              urcrnrlon=maxx,\n",
    "              urcrnrlat=maxy,\n",
    "              resolution='h')\n",
    "\n",
    "    map.drawmapboundary(fill_color='lightblue')\n",
    "    map.fillcontinents(color='beige',lake_color='lightblue')\n",
    "    map.drawcoastlines(linewidth=0.3)\n",
    "\n",
    "    x = 0.1278\n",
    "    y = 51.5074\n",
    "    \n",
    "    map.plot(x, y, 'ro', markersize=10, alpha=1.0)\n",
    "    \n",
    "    x_offset = 0.5\n",
    "    plt.text(x + x_offset, y, \"London\")\n",
    "    \n",
    "    return fig\n"
   ]
  },
  {
   "cell_type": "code",
   "execution_count": null,
   "metadata": {
    "collapsed": true
   },
   "outputs": [],
   "source": [
    "f = draw_map()"
   ]
  },
  {
   "cell_type": "code",
   "execution_count": null,
   "metadata": {
    "collapsed": true
   },
   "outputs": [],
   "source": [
    "f.savefig('figures/1.png', bbox_inches='tight')"
   ]
  },
  {
   "cell_type": "code",
   "execution_count": null,
   "metadata": {
    "collapsed": true
   },
   "outputs": [],
   "source": []
  }
 ],
 "metadata": {
  "kernelspec": {
   "display_name": "Python 3",
   "language": "python",
   "name": "python3"
  },
  "language_info": {
   "codemirror_mode": {
    "name": "ipython",
    "version": 3
   },
   "file_extension": ".py",
   "mimetype": "text/x-python",
   "name": "python",
   "nbconvert_exporter": "python",
   "pygments_lexer": "ipython3",
   "version": "3.5.1"
  }
 },
 "nbformat": 4,
 "nbformat_minor": 0
}
